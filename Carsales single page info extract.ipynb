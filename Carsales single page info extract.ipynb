{
 "cells": [
  {
   "cell_type": "markdown",
   "metadata": {},
   "source": [
    "### Import and make soup"
   ]
  },
  {
   "cell_type": "code",
   "execution_count": 1,
   "metadata": {},
   "outputs": [],
   "source": [
    "from bs4 import BeautifulSoup\n",
    "import requests\n",
    "import pandas as pd\n",
    "\n",
    "# www.carsales.com.au\n",
    "url = 'https://www.carsales.com.au/cars/dealer/private/demo/volkswagen/passat/b8-series/victoria-state/melbourne-region/?sortby=~Price&offset=0&setype=sort&limit=12'\n",
    "\n",
    "\n",
    "html = requests.get(url).text\n",
    "soup = BeautifulSoup(html,'html.parser')\n",
    "price = soup.find_all('div',{'class':'pad-top-5 price-column ad-price'})\n",
    "feature_section = soup.find_all('div',{'class':'vehicle-features'}) \n",
    "year = soup.find_all('span',{'class':'has-tooltip'})"
   ]
  },
  {
   "cell_type": "markdown",
   "metadata": {},
   "source": [
    "### Get price list / drive_away[] / excl_gov_charge[]"
   ]
  },
  {
   "cell_type": "code",
   "execution_count": 2,
   "metadata": {},
   "outputs": [],
   "source": [
    "drive_away = []\n",
    "excl_gov_charge = []\n",
    "\n",
    "for item in price:\n",
    "    price_desc = item.find('div',{'class':'price-desc'}).text\n",
    "    if price_desc == 'Excl. Govt. Charges':\n",
    "        excl_gov_charge_price = int(item.findAll('div',{'class':'price'})[0].text.replace('$','').replace(',','').replace('*',''))\n",
    "        \n",
    "        # gov charge (stamp duty) in VIC: https://www.carsguide.com.au/car-advice/stamp-duty-for-cars-explained-31021\n",
    "        # 1.042 under $66331, 1.052 above $66331\n",
    "        \n",
    "        if excl_gov_charge_price < 66331:\n",
    "            drive_away_price = 1.042 * excl_gov_charge_price \n",
    "        else:\n",
    "            drive_away_price = 1.052 * excl_gov_charge_price\n",
    "    else:\n",
    "        drive_away_price = int(item.findAll('div',{'class':'price'})[0].text.replace('$','').replace(',','').replace('*',''))\n",
    "        try:\n",
    "            excl_gov_charge_price = int(item.findAll('div',{'class':'price-alt'})[0].find('strong').text.replace('$','').replace(',','').replace('*',''))\n",
    "        except:\n",
    "            if drive_away_price < 69780.212:\n",
    "                excl_gov_charge_price = drive_away_price/1.042\n",
    "            else:\n",
    "                excl_gov_charge_price = drive_away_price/1.052\n",
    "        pass    \n",
    "    drive_away.append(drive_away_price)\n",
    "    excl_gov_charge.append(excl_gov_charge_price)"
   ]
  },
  {
   "cell_type": "markdown",
   "metadata": {},
   "source": [
    "### Get link list / links[]"
   ]
  },
  {
   "cell_type": "code",
   "execution_count": 4,
   "metadata": {},
   "outputs": [],
   "source": [
    "links = []\n",
    "base_link = 'www.carsales.com.au'\n",
    "for item in price:\n",
    "    link = base_link + item.find('a').get('href')\n",
    "    links.append(link)\n"
   ]
  },
  {
   "cell_type": "markdown",
   "metadata": {},
   "source": [
    "### Get features / odometers[] / engines[]"
   ]
  },
  {
   "cell_type": "code",
   "execution_count": 5,
   "metadata": {},
   "outputs": [],
   "source": [
    "odometers = []\n",
    "engines = []\n",
    "for item in feature_section:\n",
    "    feature = item.find_all('div',{'class':'feature-text'})\n",
    "    odometer = int(feature[0].text.replace(' ','').replace('km','').replace(',',''))\n",
    "    engine = feature[3].text\n",
    "    odometers.append(odometer)\n",
    "    engines.append(engine)"
   ]
  },
  {
   "cell_type": "markdown",
   "metadata": {},
   "source": [
    "### Get year/ build_year[]"
   ]
  },
  {
   "cell_type": "code",
   "execution_count": 6,
   "metadata": {},
   "outputs": [],
   "source": [
    "year = soup.find_all('span',{'class':'has-tooltip'})\n",
    "build_year = []\n",
    "for item in year:\n",
    "    year_num = float(item.text.replace('M','').replace('Y','').replace(' ','').replace('\\n',''))\n",
    "    build_year.append(year_num)"
   ]
  },
  {
   "cell_type": "markdown",
   "metadata": {},
   "source": [
    "### Make DataFrame"
   ]
  },
  {
   "cell_type": "code",
   "execution_count": 7,
   "metadata": {},
   "outputs": [
    {
     "name": "stdout",
     "output_type": "stream",
     "text": [
      "    Drive_away_price(AUD)  Excl_gov_charge(AUD)  Odometer(km)  \\\n",
      "0                26990.00          25902.111324         32000   \n",
      "1                29788.00          27500.000000         48203   \n",
      "2                27500.00          26391.554702         46975   \n",
      "3                29165.58          27990.000000         47968   \n",
      "4                29165.58          27990.000000         28678   \n",
      "5                29500.00          28310.940499         34000   \n",
      "6                30990.00          29613.000000          3398   \n",
      "7                29990.00          28781.190019        123392   \n",
      "8                31990.00          30700.575816         69493   \n",
      "9                33488.00          32096.000000         35098   \n",
      "10               33000.00          31669.865643         49588   \n",
      "11               33880.00          32514.395393          2100   \n",
      "\n",
      "                    Engine  Build_year  \\\n",
      "0   4cyl 1.8L Turbo Petrol        16.0   \n",
      "1   4cyl 2.0L Turbo Diesel        16.0   \n",
      "2   4cyl 1.8L Turbo Petrol        16.0   \n",
      "3   4cyl 1.8L Turbo Petrol        17.0   \n",
      "4   4cyl 1.8L Turbo Petrol        18.0   \n",
      "5   4cyl 1.8L Turbo Petrol        16.0   \n",
      "6   4cyl 1.8L Turbo Petrol        16.0   \n",
      "7   4cyl 2.0L Turbo Diesel        16.0   \n",
      "8   4cyl 2.0L Turbo Diesel        16.0   \n",
      "9   4cyl 2.0L Turbo Diesel        16.0   \n",
      "10  4cyl 2.0L Turbo Diesel        17.0   \n",
      "11  4cyl 1.8L Turbo Petrol        18.0   \n",
      "\n",
      "                                                 link  \n",
      "0   www.carsales.com.au/private/details/Volkswagen...  \n",
      "1   www.carsales.com.au/dealer/details/Volkswagen-...  \n",
      "2   www.carsales.com.au/dealer/details/Volkswagen-...  \n",
      "3   www.carsales.com.au/dealer/details/Volkswagen-...  \n",
      "4   www.carsales.com.au/dealer/details/Volkswagen-...  \n",
      "5   www.carsales.com.au/private/details/Volkswagen...  \n",
      "6   www.carsales.com.au/dealer/details/Volkswagen-...  \n",
      "7   www.carsales.com.au/dealer/details/Volkswagen-...  \n",
      "8   www.carsales.com.au/dealer/details/Volkswagen-...  \n",
      "9   www.carsales.com.au/dealer/details/Volkswagen-...  \n",
      "10  www.carsales.com.au/private/details/Volkswagen...  \n",
      "11  www.carsales.com.au/demo/details/Volkswagen-Pa...  \n"
     ]
    }
   ],
   "source": [
    "page_info = pd.DataFrame({'Drive_away_price(AUD)': drive_away,\n",
    "                          'Excl_gov_charge(AUD)':excl_gov_charge,\n",
    "                          'Odometer(km)':odometers,'Engine':engines,\n",
    "                          'Build_year':build_year,'link':links})\n",
    "print(page_info)"
   ]
  },
  {
   "cell_type": "code",
   "execution_count": null,
   "metadata": {},
   "outputs": [],
   "source": []
  }
 ],
 "metadata": {
  "kernelspec": {
   "display_name": "Python 3",
   "language": "python",
   "name": "python3"
  },
  "language_info": {
   "codemirror_mode": {
    "name": "ipython",
    "version": 3
   },
   "file_extension": ".py",
   "mimetype": "text/x-python",
   "name": "python",
   "nbconvert_exporter": "python",
   "pygments_lexer": "ipython3",
   "version": "3.6.5"
  }
 },
 "nbformat": 4,
 "nbformat_minor": 2
}
